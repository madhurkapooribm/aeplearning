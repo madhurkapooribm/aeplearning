{
 "cells": [
  {
   "cell_type": "markdown",
   "metadata": {},
   "source": [
    "## Recipe Builder Actions Overview\n",
    "\n",
    "### Saving a File Cell\n",
    "If you wish to save the contents of a cell, simply run it.  The `%%writefile` command at the top of the cell will write the contents of the cell to the file named at the top of the cell. You should run the cells manually when applicable. However, **pressing any of the actions at the top will automatically run all file cells relevant to the action**.\n",
    "\n",
    "### Training and Scoring\n",
    "Press the associated buttons at the top in order to run training or scoring. The training output will be shown below the `evaluator.py` cell and scoring output will be shown below the `datasaver.py` cell. You must run training at least once before you can run scoring. You may delete the output cell(s). Running training the first time or after changing `requirements.txt` will be slower since the dependencies for the recipe need to be installed, but subsequent runs will be significantly faster. If you wish to see the hidden output add `debug` to the end of the output cell and re-run it.\n",
    "\n",
    "### Creating the Recipe\n",
    "When you are done editing the recipe and satisfied with the training/scoring output, you can create a recipe from the notebook by pressing `Create Recipe`. You must run scoring at least once before you can create the recipe. After pressing it, you will see a progress bar showing how much time is left for the build to finish. If the recipe creation is successful the progress bar will be replaced by an external link that you can click to navigate to the created recipe.\n",
    "\n",
    "\n",
    "## Caution!\n",
    "* **Do not delete any of the file cells**\n",
    "* **Do not edit the `%%writefile` line at the top of the file cells**\n",
    "* **Do not create recipes in different notebooks at the same time**\n",
    "\n",
    "---"
   ]
  },
  {
   "cell_type": "markdown",
   "metadata": {},
   "source": [
    "#### **Requirements File** (Optional)\n",
    "Add additional libraries you wish to use in the recipe to the cell below. You can specify the version number if necessary. The file cell below is a **commented out example**."
   ]
  },
  {
   "cell_type": "code",
   "execution_count": 28,
   "metadata": {
    "id": "requirements.txt",
    "tags": [
     "requirements.txt"
    ]
   },
   "outputs": [
    {
     "name": "stdout",
     "output_type": "stream",
     "text": [
      "Overwriting /home/asruser/my-workspace/.recipes/recipe-x9ZhDdHH/requirements.txt\n"
     ]
    }
   ],
   "source": [
    "\n",
    "# pandas=0.22.0\n",
    "# numpy"
   ]
  },
  {
   "cell_type": "markdown",
   "metadata": {},
   "source": [
    "Search here for additional libraries https://anaconda.org/. This is the list of main **libraries already in use**:\n",
    "`python=3.5.2` `scikit-learn` `pandas` `numpy` `data_access_sdk_python`\n",
    "**Warning: libraries or specific versions you add may be incompatible with the above libraries**."
   ]
  },
  {
   "cell_type": "markdown",
   "metadata": {},
   "source": [
    "---"
   ]
  },
  {
   "cell_type": "markdown",
   "metadata": {},
   "source": [
    "#### **Configuration Files**\n",
    "List any hyperparamters you wish to use. Specify the dataset(s) and schema(s) that are needed for training/scoring. To find the dataset ids go to the **Data tab** in Adobe Experience Platform or view the **Datasets** folder in the **Notebooks Data tab** on the left. You can also find schema id in the **Notebooks Data tab** under the **Schemas** folder. Each configuration will only be used for its corresponding action. `ACP_DSW_TRAINING_XDM_SCHEMA` and `ACP_DSW_SCORING_RESULTS_XDM_SCHEMA` will only be used after the recipe has been created."
   ]
  },
  {
   "cell_type": "markdown",
   "metadata": {},
   "source": [
    "##### Training Configuration"
   ]
  },
  {
   "cell_type": "code",
   "execution_count": 29,
   "metadata": {
    "id": "training.conf",
    "tags": [
     "training.conf"
    ]
   },
   "outputs": [
    {
     "name": "stdout",
     "output_type": "stream",
     "text": [
      "Overwriting /home/asruser/my-workspace/.recipes/recipe-x9ZhDdHH/training.conf\n"
     ]
    }
   ],
   "source": [
    "\n",
    "{\n",
    "   \"trainingDataSetId\": \"5dd39447c54ff018a8abbc1a\",\n",
    "   \"ACP_DSW_TRAINING_XDM_SCHEMA\": \"https://ns.adobe.com/ibmnaamericaspartnersandbox/schemas/d497b035a76f1ab03460b52c4b45358d\",\n",
    "   \"num_recommendations\": \"5\",\n",
    "   \"sampling_fraction\": \"0.5\"\n",
    "}"
   ]
  },
  {
   "cell_type": "markdown",
   "metadata": {},
   "source": [
    "##### Scoring Configuration"
   ]
  },
  {
   "cell_type": "code",
   "execution_count": 30,
   "metadata": {
    "id": "scoring.conf",
    "tags": [
     "scoring.conf"
    ]
   },
   "outputs": [
    {
     "name": "stdout",
     "output_type": "stream",
     "text": [
      "Overwriting /home/asruser/my-workspace/.recipes/recipe-x9ZhDdHH/scoring.conf\n"
     ]
    }
   ],
   "source": [
    "\n",
    "{\n",
    "   \"scoringDataSetId\": \"5dd39447c54ff018a8abbc1a\",\n",
    "   \"scoringResultsDataSetId\": \"5dd394269d6dde18a860f060\",\n",
    "   \"ACP_DSW_SCORING_RESULTS_XDM_SCHEMA\": \"https://ns.adobe.com/ibmnaamericaspartnersandbox/schemas/bb74dc7d7ad31972027b024e7455acff\"\n",
    "}"
   ]
  },
  {
   "cell_type": "markdown",
   "metadata": {},
   "source": [
    "**The following configuration parameters are automatically set for you when you train/score:** \n",
    "`ML_FRAMEWORK_IMS_USER_CLIENT_ID` `ML_FRAMEWORK_IMS_TOKEN` `ML_FRAMEWORK_IMS_ML_TOKEN` `ML_FRAMEWORK_IMS_TENANT_ID` `saveData`"
   ]
  },
  {
   "cell_type": "markdown",
   "metadata": {},
   "source": [
    "---"
   ]
  },
  {
   "cell_type": "markdown",
   "metadata": {},
   "source": [
    "#### **Training Data Loader File**\n",
    "Implement the `load` function to load and prepare the training data."
   ]
  },
  {
   "cell_type": "code",
   "execution_count": 31,
   "metadata": {
    "id": "trainingdataloader.py",
    "tags": [
     "trainingdataloader.py"
    ]
   },
   "outputs": [
    {
     "name": "stdout",
     "output_type": "stream",
     "text": [
      "Overwriting /home/asruser/my-workspace/.recipes/recipe-x9ZhDdHH/recipe/trainingdataloader.py\n"
     ]
    }
   ],
   "source": [
    "\n",
    "import numpy as np\n",
    "import pandas as pd\n",
    "from data_access_sdk_python.reader import DataSetReader\n",
    "\n",
    "def load(configProperties):\n",
    "    print(\"Training Data Load Start\")\n",
    "    print(configProperties)\n",
    "    prodreader = DataSetReader(client_id=configProperties['ML_FRAMEWORK_IMS_USER_CLIENT_ID'],\n",
    "                               user_token=configProperties['ML_FRAMEWORK_IMS_TOKEN'],\n",
    "                               service_token=configProperties['ML_FRAMEWORK_IMS_ML_TOKEN'])\n",
    "\n",
    "    train_data = prodreader.load(data_set_id=configProperties['trainingDataSetId'],\n",
    "                         ims_org='91D55B255640B3AE7F000101@AdobeOrg')\n",
    "\n",
    "    print(\"Training Data Load Finish\")\n",
    "    return train_data\n"
   ]
  },
  {
   "cell_type": "markdown",
   "metadata": {},
   "source": [
    "---"
   ]
  },
  {
   "cell_type": "markdown",
   "metadata": {},
   "source": [
    "#### **Scoring Data Loader File**\n",
    "Implement the `load` function to load and prepare the scoring data."
   ]
  },
  {
   "cell_type": "code",
   "execution_count": 32,
   "metadata": {
    "id": "scoringdataloader.py",
    "tags": [
     "scoringdataloader.py"
    ]
   },
   "outputs": [
    {
     "name": "stdout",
     "output_type": "stream",
     "text": [
      "Overwriting /home/asruser/my-workspace/.recipes/recipe-x9ZhDdHH/recipe/scoringdataloader.py\n"
     ]
    }
   ],
   "source": [
    "\n",
    "import numpy as np\n",
    "import pandas as pd\n",
    "from data_access_sdk_python.reader import DataSetReader\n",
    "\n",
    "def load(configProperties):\n",
    "\n",
    "    print(\"Scoring Data Load Start\")\n",
    "\n",
    "    #########################################\n",
    "    # Load Data\n",
    "    #########################################\n",
    "    prodreader = DataSetReader(client_id=configProperties['ML_FRAMEWORK_IMS_USER_CLIENT_ID'],\n",
    "                               user_token=configProperties['ML_FRAMEWORK_IMS_TOKEN'],\n",
    "                               service_token=configProperties['ML_FRAMEWORK_IMS_ML_TOKEN'])\n",
    "\n",
    "    df = prodreader.load(data_set_id=configProperties['scoringDataSetId'],\n",
    "                         ims_org='91D55B255640B3AE7F000101@AdobeOrg')\n",
    "\n",
    "    print(\"Scoring Data Load Finish\")\n",
    "\n",
    "    return df\n"
   ]
  },
  {
   "cell_type": "markdown",
   "metadata": {},
   "source": [
    "---"
   ]
  },
  {
   "cell_type": "markdown",
   "metadata": {},
   "source": [
    "#### **Pipeline File**\n",
    "Implement the `train` function and return the trained model. Implement the `score` function to return a prediction made on the scoring data."
   ]
  },
  {
   "cell_type": "code",
   "execution_count": 33,
   "metadata": {
    "id": "pipeline.py",
    "tags": [
     "pipeline.py"
    ]
   },
   "outputs": [
    {
     "name": "stdout",
     "output_type": "stream",
     "text": [
      "Overwriting /home/asruser/my-workspace/.recipes/recipe-x9ZhDdHH/recipe/pipeline.py\n"
     ]
    }
   ],
   "source": [
    "\n",
    "import pandas as pd\n",
    "import numpy as np\n",
    "from collections import Counter\n",
    "\n",
    "class PopularityBasedRecommendationModel():\n",
    "    def __init__(self, num_to_recommend, configProperties):\n",
    "        self.num_to_recommend = num_to_recommend\n",
    "        self.recommendations = ['dummy']\n",
    "\n",
    "        tenant_id='ibmnaamericaspartnersandbox'\n",
    "\n",
    "        self.user_id_column = '_%s.userId' % tenant_id\n",
    "        self.recommendations_column = '_%s.recommendations' % tenant_id\n",
    "        self.item_id_column = '_%s.itemId' % tenant_id\n",
    "\n",
    "    def fit(self, df):\n",
    "        df = df[df[self.item_id_column].notnull()]\n",
    "        self.recommendations = [item for item, freq in\n",
    "                                Counter(list(df[self.item_id_column].values)).most_common(self.num_to_recommend)]\n",
    "\n",
    "\n",
    "    def predict(self, df):\n",
    "        # remove columns having none\n",
    "        df = df[df[self.item_id_column].notnull()]\n",
    "\n",
    "        df_grouped_by_user = df.groupby(self.user_id_column).agg(\n",
    "            {self.item_id_column: lambda x: ','.join(x)})\\\n",
    "        .rename(columns={self.item_id_column:'interactions'}).reset_index()\n",
    "\n",
    "        df_grouped_by_user[self.recommendations_column] = '#'.join(self.recommendations)\n",
    "        df_grouped_by_user = df_grouped_by_user.drop(['interactions'],axis=1)\n",
    "\n",
    "        return df_grouped_by_user\n",
    "\n",
    "def train(configProperties, data):\n",
    "\n",
    "    print(\"Train Start\")\n",
    "\n",
    "    #########################################\n",
    "    # Extract fields from configProperties\n",
    "    #########################################\n",
    "    num_recommendations = int(configProperties['num_recommendations'])\n",
    "\n",
    "    #########################################\n",
    "    # Fit model\n",
    "    #########################################\n",
    "    print('in train')\n",
    "    print(configProperties)\n",
    "\n",
    "    model = PopularityBasedRecommendationModel(num_recommendations, configProperties)\n",
    "\n",
    "    model.fit(data)\n",
    "\n",
    "    print(\"Train Complete\")\n",
    "\n",
    "    return model\n",
    "\n",
    "def score(configProperties, data, model):\n",
    "\n",
    "    print(\"Score Start\")\n",
    "\n",
    "    result = model.predict(data)\n",
    "\n",
    "    print(\"Score Complete\")\n",
    "\n",
    "    return result\n"
   ]
  },
  {
   "cell_type": "markdown",
   "metadata": {},
   "source": [
    "---"
   ]
  },
  {
   "cell_type": "markdown",
   "metadata": {},
   "source": [
    "#### **Evaluator File**\n",
    "Implement the `split` function to partition the training data and the `evaluate` function to the return the validation metrics you wish to see. Training output will be shown below this file cell."
   ]
  },
  {
   "cell_type": "code",
   "execution_count": 34,
   "metadata": {
    "id": "evaluator.py",
    "tags": [
     "evaluator.py"
    ]
   },
   "outputs": [
    {
     "name": "stdout",
     "output_type": "stream",
     "text": [
      "Overwriting /home/asruser/my-workspace/.recipes/recipe-x9ZhDdHH/recipe/evaluator.py\n"
     ]
    }
   ],
   "source": [
    "\n",
    "from ml.runtime.python.Interfaces.AbstractEvaluator import AbstractEvaluator\n",
    "from data_access_sdk_python.reader import DataSetReader\n",
    "import numpy as np\n",
    "import pandas as pd\n",
    "\n",
    "class Evaluator(AbstractEvaluator):\n",
    "\n",
    "    def split(self, configProperties={}, dataframe=None):\n",
    "        #########################################\n",
    "        # Load Data\n",
    "        #########################################\n",
    "        train = dataframe[:]\n",
    "        test = dataframe[:]\n",
    "\n",
    "        return train, test\n",
    "\n",
    "    def evaluate(self, data=[], model={}, configProperties={}):\n",
    "        print (\"Evaluation evaluate triggered\")\n",
    "\n",
    "        tenant_id='ibmnaamericaspartnersandbox'\n",
    "\n",
    "        self.user_id_column = '_%s.userId' % tenant_id\n",
    "        self.recommendations_column = '_%s.recommendations' % tenant_id\n",
    "        self.item_id_column = '_%s.itemId' % tenant_id\n",
    "\n",
    "        # remove columns having none\n",
    "        data = data[data[self.item_id_column].notnull()]\n",
    "\n",
    "        data_grouped_by_user = data.groupby(self.user_id_column).agg(\n",
    "            {self.item_id_column: lambda x: '#'.join(x)})\\\n",
    "        .rename(columns={self.item_id_column:'interactions'}).reset_index()\n",
    "\n",
    "        data_recommendations = model.predict(data)\n",
    "\n",
    "        merged_df = pd.merge(data_grouped_by_user, data_recommendations, on=[self.user_id_column]).reset_index()\n",
    "\n",
    "        def compute_recall(row):\n",
    "            set_interactions = set(row['interactions'].split('#'))\n",
    "            set_recommendations = set(row[self.recommendations_column].split('#'))\n",
    "            inters = set_interactions.intersection(set_recommendations)\n",
    "            if len(inters) > 0:\n",
    "                return 1\n",
    "            return 0\n",
    "\n",
    "        def compute_precision(row):\n",
    "            set_interactions = set(row['interactions'].split('#'))\n",
    "            list_recommendations = row[self.recommendations_column].split('#')\n",
    "            score = 0\n",
    "            weight = 0.5\n",
    "            for rec in list_recommendations:\n",
    "                if rec in set_interactions:\n",
    "                    score = score + weight\n",
    "                weight = weight / 2\n",
    "\n",
    "            return score\n",
    "\n",
    "\n",
    "        merged_df['recall'] = merged_df.apply(lambda row: compute_recall(row), axis=1)\n",
    "        merged_df['precision'] = merged_df.apply(lambda row: compute_precision(row), axis=1)\n",
    "\n",
    "        recall = merged_df['recall'].mean()\n",
    "        precision = merged_df['precision'].mean()\n",
    "\n",
    "        metric = [{\"name\": \"Recall\", \"value\": recall, \"valueType\": \"double\"},\n",
    "                 {\"name\": \"Precision\", \"value\": precision, \"valueType\": \"double\"}]\n",
    "\n",
    "        print(metric)\n",
    "\n",
    "        return metric\n",
    "    "
   ]
  },
  {
   "cell_type": "markdown",
   "metadata": {},
   "source": [
    "#### **Data Saver File**\n",
    "Implement the `save` function for saving your prediction. Scoring output will be added below this cell."
   ]
  },
  {
   "cell_type": "code",
   "execution_count": 35,
   "metadata": {
    "id": "datasaver.py",
    "tags": [
     "datasaver.py"
    ]
   },
   "outputs": [
    {
     "name": "stdout",
     "output_type": "stream",
     "text": [
      "Overwriting /home/asruser/my-workspace/.recipes/recipe-x9ZhDdHH/recipe/datasaver.py\n"
     ]
    }
   ],
   "source": [
    "\n",
    "from data_access_sdk_python.writer import DataSetWriter\n",
    "from functools import reduce\n",
    "import json\n",
    "\n",
    "def save(configProperties, prediction):\n",
    "\n",
    "    print(prediction)\n",
    "    prodwriter = DataSetWriter(client_id=configProperties['ML_FRAMEWORK_IMS_USER_CLIENT_ID'],\n",
    "                               user_token=configProperties['ML_FRAMEWORK_IMS_TOKEN'],\n",
    "                               service_token=configProperties['ML_FRAMEWORK_IMS_ML_TOKEN'])\n",
    "\n",
    "    batch_id = prodwriter.write(data_set_id=configProperties['scoringResultsDataSetId'],\n",
    "                 dataframe=prediction,\n",
    "                 ims_org='91D55B255640B3AE7F000101@AdobeOrg')\n",
    "    print(\"Data written successfully to platform:\",batch_id)\n"
   ]
  }
 ],
 "metadata": {
  "elementId": "xFtDgcsF",
  "engine_name": "vangeluw_Recommendations_Recipe",
  "isScoringRun": true,
  "kernelspec": {
   "display_name": "Python 3",
   "language": "python",
   "name": "python3"
  },
  "language_info": {
   "codemirror_mode": {
    "name": "ipython",
    "version": 3
   },
   "file_extension": ".py",
   "mimetype": "text/x-python",
   "name": "python",
   "nbconvert_exporter": "python",
   "pygments_lexer": "ipython3",
   "version": "3.6.7"
  },
  "last_created_recipe": "https://platform.adobe.com/ml/recipes/0fab935d-4fc2-491e-8077-5c52b300fada",
  "notebook_type": "builder"
 },
 "nbformat": 4,
 "nbformat_minor": 4
}
