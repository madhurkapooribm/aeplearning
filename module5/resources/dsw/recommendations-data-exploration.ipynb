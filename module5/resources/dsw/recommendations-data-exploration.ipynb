{
 "cells": [
  {
   "cell_type": "markdown",
   "metadata": {},
   "source": [
    "## Load Libraries"
   ]
  },
  {
   "cell_type": "code",
   "execution_count": 1,
   "metadata": {
    "scrolled": true
   },
   "outputs": [
    {
     "name": "stderr",
     "output_type": "stream",
     "text": [
      "INFO:matplotlib.font_manager:generated new fontManager\n"
     ]
    }
   ],
   "source": [
    "import numpy as np \n",
    "import pandas as pd\n",
    "import matplotlib.pyplot as plt\n",
    "import seaborn as sns\n",
    "from sklearn import model_selection, linear_model, tree\n",
    "from sklearn.ensemble import RandomForestRegressor, GradientBoostingRegressor\n",
    "from sklearn.neighbors import KNeighborsRegressor\n",
    "import warnings; warnings.simplefilter('ignore')\n",
    "%matplotlib inline\n",
    "sns.set()\n",
    "seed = 1234\n",
    "inputDataset=\"5dd39447c54ff018a8abbc1a\" # Recommendations Input Dataset"
   ]
  },
  {
   "cell_type": "markdown",
   "metadata": {},
   "source": [
    "## Load Data"
   ]
  },
  {
   "cell_type": "code",
   "execution_count": 2,
   "metadata": {},
   "outputs": [
    {
     "name": "stderr",
     "output_type": "stream",
     "text": [
      "WARNING:DataAccessSDK:Current Data Access is being deprecated.  Please use platform-sdk-python. https://github.com/adobe/experience-platform-dsw-reference/wiki/Converting-to-Platform-SDK-Python\n",
      "INFO:DataAccessSDK:There are 1 file(s) in this dataset/batch, limit_files: all\n",
      "INFO:azure.datalake.store.core:closing stream\n",
      "INFO:DataAccessSDK:#1/1 batch file platform/5dd39447c54ff018a8abbc1a/datasetViewId=5dd39447c54ff018a8abbc1b/_ACP_YEAR=2019/_ACP_MONTH=11/_ACP_DAY=20/batchId=b26690c0-0b8a-11ea-b5ba-799aacf714bd/part-00000-tid-3988023138967601034-94251a45-df57-458f-9533-8fbfb9b04a7a-22464487.c000.snappy.parquet : 16 rows read. 219.09 MB memory used for this process.\n",
      "INFO:DataAccessSDK:16 rows total in dataframe\n"
     ]
    }
   ],
   "source": [
    "from data_access_sdk_python.reader import DataSetReader\n",
    "from datetime import date\n",
    "reader = DataSetReader()\n",
    "df = reader.load(data_set_id=inputDataset, ims_org=\"91D55B255640B3AE7F000101@AdobeOrg\")\n"
   ]
  },
  {
   "cell_type": "markdown",
   "metadata": {},
   "source": [
    "## Summarize the Data"
   ]
  },
  {
   "cell_type": "markdown",
   "metadata": {},
   "source": [
    "### Dataset Dimensions"
   ]
  },
  {
   "cell_type": "code",
   "execution_count": 3,
   "metadata": {},
   "outputs": [
    {
     "name": "stdout",
     "output_type": "stream",
     "text": [
      "You'll see the number of lines and the number of columns: (16, 5)\n"
     ]
    }
   ],
   "source": [
    "print(\"You'll see the number of lines and the number of columns:\", df.shape)"
   ]
  },
  {
   "cell_type": "markdown",
   "metadata": {},
   "source": [
    "### Peeking at the Data"
   ]
  },
  {
   "cell_type": "code",
   "execution_count": 4,
   "metadata": {
    "scrolled": true
   },
   "outputs": [
    {
     "data": {
      "text/html": [
       "<div>\n",
       "<style scoped>\n",
       "    .dataframe tbody tr th:only-of-type {\n",
       "        vertical-align: middle;\n",
       "    }\n",
       "\n",
       "    .dataframe tbody tr th {\n",
       "        vertical-align: top;\n",
       "    }\n",
       "\n",
       "    .dataframe thead th {\n",
       "        text-align: right;\n",
       "    }\n",
       "</style>\n",
       "<table border=\"1\" class=\"dataframe\">\n",
       "  <thead>\n",
       "    <tr style=\"text-align: right;\">\n",
       "      <th></th>\n",
       "      <th>timestamp</th>\n",
       "      <th>_ibmnaamericaspartnersandbox.brandName</th>\n",
       "      <th>_ibmnaamericaspartnersandbox.interactionType</th>\n",
       "      <th>_ibmnaamericaspartnersandbox.itemId</th>\n",
       "      <th>_ibmnaamericaspartnersandbox.userId</th>\n",
       "    </tr>\n",
       "  </thead>\n",
       "  <tbody>\n",
       "    <tr>\n",
       "      <th>0</th>\n",
       "      <td>2019-11-20 08:44:37</td>\n",
       "      <td>Luma Retail</td>\n",
       "      <td>productView</td>\n",
       "      <td>Nadia Elements Shell</td>\n",
       "      <td>91635799509879697768509199328383330031</td>\n",
       "    </tr>\n",
       "    <tr>\n",
       "      <th>1</th>\n",
       "      <td>2019-11-20 08:44:44</td>\n",
       "      <td>Luma Retail</td>\n",
       "      <td>productView</td>\n",
       "      <td>Nadia Elements Shell</td>\n",
       "      <td>91635799509879697768509199328383330031</td>\n",
       "    </tr>\n",
       "    <tr>\n",
       "      <th>2</th>\n",
       "      <td>2019-11-20 08:44:59</td>\n",
       "      <td>Luma Retail</td>\n",
       "      <td>productView</td>\n",
       "      <td>Nadia Elements Shell</td>\n",
       "      <td>91635799509879697768509199328383330031</td>\n",
       "    </tr>\n",
       "    <tr>\n",
       "      <th>3</th>\n",
       "      <td>2019-11-20 08:44:59</td>\n",
       "      <td>Luma Retail</td>\n",
       "      <td>productView</td>\n",
       "      <td>Nadia Elements Shell</td>\n",
       "      <td>91635799509879697768509199328383330031</td>\n",
       "    </tr>\n",
       "    <tr>\n",
       "      <th>4</th>\n",
       "      <td>2019-11-20 08:45:31</td>\n",
       "      <td>Luma Retail</td>\n",
       "      <td>productView</td>\n",
       "      <td>Nadia Elements Shell</td>\n",
       "      <td>91635799509879697768509199328383330031</td>\n",
       "    </tr>\n",
       "    <tr>\n",
       "      <th>5</th>\n",
       "      <td>2019-11-20 08:45:39</td>\n",
       "      <td>Luma Retail</td>\n",
       "      <td>productView</td>\n",
       "      <td>Nadia Elements Shell</td>\n",
       "      <td>91635799509879697768509199328383330031</td>\n",
       "    </tr>\n",
       "    <tr>\n",
       "      <th>6</th>\n",
       "      <td>2019-11-20 08:47:45</td>\n",
       "      <td>Luma Retail</td>\n",
       "      <td>productView</td>\n",
       "      <td>Nadia Elements Shell</td>\n",
       "      <td>91635799509879697768509199328383330031</td>\n",
       "    </tr>\n",
       "    <tr>\n",
       "      <th>7</th>\n",
       "      <td>2019-11-20 08:47:45</td>\n",
       "      <td>Luma Retail</td>\n",
       "      <td>productView</td>\n",
       "      <td>Nadia Elements Shell</td>\n",
       "      <td>91635799509879697768509199328383330031</td>\n",
       "    </tr>\n",
       "    <tr>\n",
       "      <th>8</th>\n",
       "      <td>2019-11-20 08:48:09</td>\n",
       "      <td>Luma Retail</td>\n",
       "      <td>productView</td>\n",
       "      <td>Nadia Elements Shell</td>\n",
       "      <td>91635799509879697768509199328383330031</td>\n",
       "    </tr>\n",
       "    <tr>\n",
       "      <th>9</th>\n",
       "      <td>2019-11-20 08:48:09</td>\n",
       "      <td>Luma Retail</td>\n",
       "      <td>productView</td>\n",
       "      <td>Nadia Elements Shell</td>\n",
       "      <td>91635799509879697768509199328383330031</td>\n",
       "    </tr>\n",
       "    <tr>\n",
       "      <th>10</th>\n",
       "      <td>2019-11-20 08:48:13</td>\n",
       "      <td>Luma Retail</td>\n",
       "      <td>productView</td>\n",
       "      <td>Nadia Elements Shell</td>\n",
       "      <td>91635799509879697768509199328383330031</td>\n",
       "    </tr>\n",
       "    <tr>\n",
       "      <th>11</th>\n",
       "      <td>2019-11-20 08:48:13</td>\n",
       "      <td>Luma Retail</td>\n",
       "      <td>productView</td>\n",
       "      <td>Nadia Elements Shell</td>\n",
       "      <td>91635799509879697768509199328383330031</td>\n",
       "    </tr>\n",
       "    <tr>\n",
       "      <th>12</th>\n",
       "      <td>2019-11-20 08:51:55</td>\n",
       "      <td>Luma Retail</td>\n",
       "      <td>productView</td>\n",
       "      <td>Nadia Elements Shell</td>\n",
       "      <td>91635799509879697768509199328383330031</td>\n",
       "    </tr>\n",
       "    <tr>\n",
       "      <th>13</th>\n",
       "      <td>2019-11-20 08:51:56</td>\n",
       "      <td>Luma Retail</td>\n",
       "      <td>productView</td>\n",
       "      <td>Nadia Elements Shell</td>\n",
       "      <td>91635799509879697768509199328383330031</td>\n",
       "    </tr>\n",
       "    <tr>\n",
       "      <th>14</th>\n",
       "      <td>2019-11-20 08:52:13</td>\n",
       "      <td>Luma Retail</td>\n",
       "      <td>productView</td>\n",
       "      <td>Nadia Elements Shell</td>\n",
       "      <td>91635799509879697768509199328383330031</td>\n",
       "    </tr>\n",
       "    <tr>\n",
       "      <th>15</th>\n",
       "      <td>2019-11-20 08:52:13</td>\n",
       "      <td>Luma Retail</td>\n",
       "      <td>productView</td>\n",
       "      <td>Nadia Elements Shell</td>\n",
       "      <td>91635799509879697768509199328383330031</td>\n",
       "    </tr>\n",
       "  </tbody>\n",
       "</table>\n",
       "</div>"
      ],
      "text/plain": [
       "             timestamp _ibmnaamericaspartnersandbox.brandName  \\\n",
       "0  2019-11-20 08:44:37                            Luma Retail   \n",
       "1  2019-11-20 08:44:44                            Luma Retail   \n",
       "2  2019-11-20 08:44:59                            Luma Retail   \n",
       "3  2019-11-20 08:44:59                            Luma Retail   \n",
       "4  2019-11-20 08:45:31                            Luma Retail   \n",
       "5  2019-11-20 08:45:39                            Luma Retail   \n",
       "6  2019-11-20 08:47:45                            Luma Retail   \n",
       "7  2019-11-20 08:47:45                            Luma Retail   \n",
       "8  2019-11-20 08:48:09                            Luma Retail   \n",
       "9  2019-11-20 08:48:09                            Luma Retail   \n",
       "10 2019-11-20 08:48:13                            Luma Retail   \n",
       "11 2019-11-20 08:48:13                            Luma Retail   \n",
       "12 2019-11-20 08:51:55                            Luma Retail   \n",
       "13 2019-11-20 08:51:56                            Luma Retail   \n",
       "14 2019-11-20 08:52:13                            Luma Retail   \n",
       "15 2019-11-20 08:52:13                            Luma Retail   \n",
       "\n",
       "   _ibmnaamericaspartnersandbox.interactionType  \\\n",
       "0                                   productView   \n",
       "1                                   productView   \n",
       "2                                   productView   \n",
       "3                                   productView   \n",
       "4                                   productView   \n",
       "5                                   productView   \n",
       "6                                   productView   \n",
       "7                                   productView   \n",
       "8                                   productView   \n",
       "9                                   productView   \n",
       "10                                  productView   \n",
       "11                                  productView   \n",
       "12                                  productView   \n",
       "13                                  productView   \n",
       "14                                  productView   \n",
       "15                                  productView   \n",
       "\n",
       "   _ibmnaamericaspartnersandbox.itemId     _ibmnaamericaspartnersandbox.userId  \n",
       "0                 Nadia Elements Shell  91635799509879697768509199328383330031  \n",
       "1                 Nadia Elements Shell  91635799509879697768509199328383330031  \n",
       "2                 Nadia Elements Shell  91635799509879697768509199328383330031  \n",
       "3                 Nadia Elements Shell  91635799509879697768509199328383330031  \n",
       "4                 Nadia Elements Shell  91635799509879697768509199328383330031  \n",
       "5                 Nadia Elements Shell  91635799509879697768509199328383330031  \n",
       "6                 Nadia Elements Shell  91635799509879697768509199328383330031  \n",
       "7                 Nadia Elements Shell  91635799509879697768509199328383330031  \n",
       "8                 Nadia Elements Shell  91635799509879697768509199328383330031  \n",
       "9                 Nadia Elements Shell  91635799509879697768509199328383330031  \n",
       "10                Nadia Elements Shell  91635799509879697768509199328383330031  \n",
       "11                Nadia Elements Shell  91635799509879697768509199328383330031  \n",
       "12                Nadia Elements Shell  91635799509879697768509199328383330031  \n",
       "13                Nadia Elements Shell  91635799509879697768509199328383330031  \n",
       "14                Nadia Elements Shell  91635799509879697768509199328383330031  \n",
       "15                Nadia Elements Shell  91635799509879697768509199328383330031  "
      ]
     },
     "execution_count": 4,
     "metadata": {},
     "output_type": "execute_result"
    }
   ],
   "source": [
    "df.head(20)"
   ]
  },
  {
   "cell_type": "markdown",
   "metadata": {},
   "source": [
    "### Statistical Summary"
   ]
  },
  {
   "cell_type": "code",
   "execution_count": 6,
   "metadata": {
    "scrolled": true
   },
   "outputs": [],
   "source": [
    "user_id = '_ibmnaamericaspartnersandbox.userId'\n",
    "item_id = '_ibmnaamericaspartnersandbox.itemId'\n",
    "interaction_type = '_ibmnaamericaspartnersandbox.interactionType'\n",
    "timestamp = '_ibmnaamericaspartnersandbox.timestamp'"
   ]
  },
  {
   "cell_type": "code",
   "execution_count": 7,
   "metadata": {},
   "outputs": [
    {
     "data": {
      "text/html": [
       "<div>\n",
       "<style scoped>\n",
       "    .dataframe tbody tr th:only-of-type {\n",
       "        vertical-align: middle;\n",
       "    }\n",
       "\n",
       "    .dataframe tbody tr th {\n",
       "        vertical-align: top;\n",
       "    }\n",
       "\n",
       "    .dataframe thead th {\n",
       "        text-align: right;\n",
       "    }\n",
       "</style>\n",
       "<table border=\"1\" class=\"dataframe\">\n",
       "  <thead>\n",
       "    <tr style=\"text-align: right;\">\n",
       "      <th></th>\n",
       "      <th>timestamp</th>\n",
       "      <th>_ibmnaamericaspartnersandbox.brandName</th>\n",
       "      <th>_ibmnaamericaspartnersandbox.interactionType</th>\n",
       "      <th>_ibmnaamericaspartnersandbox.itemId</th>\n",
       "      <th>_ibmnaamericaspartnersandbox.userId</th>\n",
       "    </tr>\n",
       "  </thead>\n",
       "  <tbody>\n",
       "    <tr>\n",
       "      <th>count</th>\n",
       "      <td>16</td>\n",
       "      <td>16</td>\n",
       "      <td>16</td>\n",
       "      <td>16</td>\n",
       "      <td>16</td>\n",
       "    </tr>\n",
       "    <tr>\n",
       "      <th>unique</th>\n",
       "      <td>11</td>\n",
       "      <td>1</td>\n",
       "      <td>1</td>\n",
       "      <td>1</td>\n",
       "      <td>1</td>\n",
       "    </tr>\n",
       "    <tr>\n",
       "      <th>top</th>\n",
       "      <td>2019-11-20 08:48:09</td>\n",
       "      <td>Luma Retail</td>\n",
       "      <td>productView</td>\n",
       "      <td>Nadia Elements Shell</td>\n",
       "      <td>91635799509879697768509199328383330031</td>\n",
       "    </tr>\n",
       "    <tr>\n",
       "      <th>freq</th>\n",
       "      <td>2</td>\n",
       "      <td>16</td>\n",
       "      <td>16</td>\n",
       "      <td>16</td>\n",
       "      <td>16</td>\n",
       "    </tr>\n",
       "    <tr>\n",
       "      <th>first</th>\n",
       "      <td>2019-11-20 08:44:37</td>\n",
       "      <td>NaN</td>\n",
       "      <td>NaN</td>\n",
       "      <td>NaN</td>\n",
       "      <td>NaN</td>\n",
       "    </tr>\n",
       "    <tr>\n",
       "      <th>last</th>\n",
       "      <td>2019-11-20 08:52:13</td>\n",
       "      <td>NaN</td>\n",
       "      <td>NaN</td>\n",
       "      <td>NaN</td>\n",
       "      <td>NaN</td>\n",
       "    </tr>\n",
       "  </tbody>\n",
       "</table>\n",
       "</div>"
      ],
      "text/plain": [
       "                  timestamp _ibmnaamericaspartnersandbox.brandName  \\\n",
       "count                    16                                     16   \n",
       "unique                   11                                      1   \n",
       "top     2019-11-20 08:48:09                            Luma Retail   \n",
       "freq                      2                                     16   \n",
       "first   2019-11-20 08:44:37                                    NaN   \n",
       "last    2019-11-20 08:52:13                                    NaN   \n",
       "\n",
       "       _ibmnaamericaspartnersandbox.interactionType  \\\n",
       "count                                            16   \n",
       "unique                                            1   \n",
       "top                                     productView   \n",
       "freq                                             16   \n",
       "first                                           NaN   \n",
       "last                                            NaN   \n",
       "\n",
       "       _ibmnaamericaspartnersandbox.itemId  \\\n",
       "count                                   16   \n",
       "unique                                   1   \n",
       "top                   Nadia Elements Shell   \n",
       "freq                                    16   \n",
       "first                                  NaN   \n",
       "last                                   NaN   \n",
       "\n",
       "           _ibmnaamericaspartnersandbox.userId  \n",
       "count                                       16  \n",
       "unique                                       1  \n",
       "top     91635799509879697768509199328383330031  \n",
       "freq                                        16  \n",
       "first                                      NaN  \n",
       "last                                       NaN  "
      ]
     },
     "execution_count": 7,
     "metadata": {},
     "output_type": "execute_result"
    }
   ],
   "source": [
    "df.describe()"
   ]
  },
  {
   "cell_type": "markdown",
   "metadata": {},
   "source": [
    "### Grouping Items by Item ID"
   ]
  },
  {
   "cell_type": "code",
   "execution_count": 8,
   "metadata": {},
   "outputs": [
    {
     "data": {
      "text/html": [
       "<div>\n",
       "<style scoped>\n",
       "    .dataframe tbody tr th:only-of-type {\n",
       "        vertical-align: middle;\n",
       "    }\n",
       "\n",
       "    .dataframe tbody tr th {\n",
       "        vertical-align: top;\n",
       "    }\n",
       "\n",
       "    .dataframe thead tr th {\n",
       "        text-align: left;\n",
       "    }\n",
       "\n",
       "    .dataframe thead tr:last-of-type th {\n",
       "        text-align: right;\n",
       "    }\n",
       "</style>\n",
       "<table border=\"1\" class=\"dataframe\">\n",
       "  <thead>\n",
       "    <tr>\n",
       "      <th></th>\n",
       "      <th>_ibmnaamericaspartnersandbox.userId</th>\n",
       "    </tr>\n",
       "    <tr>\n",
       "      <th></th>\n",
       "      <th>count</th>\n",
       "    </tr>\n",
       "    <tr>\n",
       "      <th>_ibmnaamericaspartnersandbox.itemId</th>\n",
       "      <th></th>\n",
       "    </tr>\n",
       "  </thead>\n",
       "  <tbody>\n",
       "    <tr>\n",
       "      <th>Nadia Elements Shell</th>\n",
       "      <td>16</td>\n",
       "    </tr>\n",
       "  </tbody>\n",
       "</table>\n",
       "</div>"
      ],
      "text/plain": [
       "                                    _ibmnaamericaspartnersandbox.userId\n",
       "                                                                  count\n",
       "_ibmnaamericaspartnersandbox.itemId                                    \n",
       "Nadia Elements Shell                                                 16"
      ]
     },
     "execution_count": 8,
     "metadata": {},
     "output_type": "execute_result"
    }
   ],
   "source": [
    "df[[user_id, item_id]].groupby([item_id]).agg(['count'])"
   ]
  },
  {
   "cell_type": "code",
   "execution_count": null,
   "metadata": {},
   "outputs": [],
   "source": []
  }
 ],
 "metadata": {
  "kernelspec": {
   "display_name": "Python 3",
   "language": "python",
   "name": "python3"
  },
  "language_info": {
   "codemirror_mode": {
    "name": "ipython",
    "version": 3
   },
   "file_extension": ".py",
   "mimetype": "text/x-python",
   "name": "python",
   "nbconvert_exporter": "python",
   "pygments_lexer": "ipython3",
   "version": "3.6.7"
  }
 },
 "nbformat": 4,
 "nbformat_minor": 4
}
